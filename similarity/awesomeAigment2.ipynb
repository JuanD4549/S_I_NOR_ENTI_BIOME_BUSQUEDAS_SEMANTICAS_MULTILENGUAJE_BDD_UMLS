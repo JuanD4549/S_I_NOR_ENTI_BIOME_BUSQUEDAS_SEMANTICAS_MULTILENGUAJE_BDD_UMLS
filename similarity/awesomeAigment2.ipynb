{
 "cells": [
  {
   "cell_type": "code",
   "execution_count": null,
   "metadata": {},
   "outputs": [],
   "source": [
    "%cd awesome-align"
   ]
  },
  {
   "cell_type": "code",
   "execution_count": null,
   "metadata": {},
   "outputs": [],
   "source": [
    "!CUDA_VISIBLE_DEVICES=0 awesome-align \\\n",
    "    --output_file=data/output.txt \\\n",
    "    --model_name_or_path=out/checkpoint-5080 \\\n",
    "    --data_file=data/EngSpn.txt \\\n",
    "    --extraction 'softmax' \\\n",
    "    --batch_size 32"
   ]
  }
 ],
 "metadata": {
  "language_info": {
   "name": "python"
  },
  "orig_nbformat": 4
 },
 "nbformat": 4,
 "nbformat_minor": 2
}
