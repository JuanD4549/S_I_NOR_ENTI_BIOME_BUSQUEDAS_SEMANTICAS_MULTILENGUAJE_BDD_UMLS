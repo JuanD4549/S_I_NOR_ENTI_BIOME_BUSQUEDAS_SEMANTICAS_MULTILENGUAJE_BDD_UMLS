{
 "cells": [
  {
   "cell_type": "code",
   "execution_count": 1,
   "id": "bbef0568-def7-488c-bc1b-fb3df62d85f5",
   "metadata": {
    "execution": {
     "iopub.execute_input": "2023-01-28T13:24:03.403277Z",
     "iopub.status.busy": "2023-01-28T13:24:03.402819Z",
     "iopub.status.idle": "2023-01-28T13:24:07.742549Z",
     "shell.execute_reply": "2023-01-28T13:24:07.741431Z",
     "shell.execute_reply.started": "2023-01-28T13:24:03.403245Z"
    }
   },
   "outputs": [
    {
     "name": "stderr",
     "output_type": "stream",
     "text": [
      "fatal: destination path 'awesome-align' already exists and is not an empty directory.\n"
     ]
    }
   ],
   "source": [
    "#https://github.com/neulab/awesome-align\n",
    "!git clone https://github.com/neulab/awesome-align.git"
   ]
  },
  {
   "cell_type": "code",
   "execution_count": 2,
   "id": "6e4bcb68-f158-485a-a4b3-edf2e3fdd630",
   "metadata": {
    "execution": {
     "iopub.execute_input": "2023-03-09T16:15:57.537215Z",
     "iopub.status.busy": "2023-03-09T16:15:57.536866Z",
     "iopub.status.idle": "2023-03-09T16:15:57.546657Z",
     "shell.execute_reply": "2023-03-09T16:15:57.545929Z",
     "shell.execute_reply.started": "2023-03-09T16:15:57.537185Z"
    }
   },
   "outputs": [
    {
     "name": "stdout",
     "output_type": "stream",
     "text": [
      "d:\\juand\\Documents\\Proyects\\Tesis\\S_I_NOR_ENTI_BIOME_BUSQUEDAS_SEMANTICAS_MULTILENGUAJE_BDD_UMLS\\awesome-align\n"
     ]
    }
   ],
   "source": [
    "%cd awesome-align"
   ]
  },
  {
   "cell_type": "code",
   "execution_count": 3,
   "id": "d90ed86a-d18e-4101-89fd-7e0e776e3030",
   "metadata": {
    "execution": {
     "iopub.execute_input": "2023-03-09T16:16:00.200268Z",
     "iopub.status.busy": "2023-03-09T16:16:00.199881Z",
     "iopub.status.idle": "2023-03-09T16:16:59.913045Z",
     "shell.execute_reply": "2023-03-09T16:16:59.912236Z",
     "shell.execute_reply.started": "2023-03-09T16:16:00.200240Z"
    }
   },
   "outputs": [
    {
     "name": "stdout",
     "output_type": "stream",
     "text": [
      "Collecting tokenizers>=0.5.2\n",
      "  Downloading tokenizers-0.13.3-cp38-cp38-win_amd64.whl (3.5 MB)\n",
      "Collecting torch>=1.2.0\n",
      "  Downloading torch-2.0.1-cp38-cp38-win_amd64.whl (172.4 MB)\n",
      "Requirement already satisfied: tqdm in d:\\juand\\documents\\proyects\\tesis\\s_i_nor_enti_biome_busquedas_semanticas_multilenguaje_bdd_umls\\myvenv\\lib\\site-packages (from -r requirements.txt (line 3)) (4.65.0)\n",
      "Requirement already satisfied: numpy in d:\\juand\\documents\\proyects\\tesis\\s_i_nor_enti_biome_busquedas_semanticas_multilenguaje_bdd_umls\\myvenv\\lib\\site-packages (from -r requirements.txt (line 4)) (1.24.3)\n",
      "Collecting boto3\n",
      "  Downloading boto3-1.26.145-py3-none-any.whl (135 kB)\n",
      "Collecting filelock\n",
      "  Downloading filelock-3.12.0-py3-none-any.whl (10 kB)\n",
      "Requirement already satisfied: requests in d:\\juand\\documents\\proyects\\tesis\\s_i_nor_enti_biome_busquedas_semanticas_multilenguaje_bdd_umls\\myvenv\\lib\\site-packages (from -r requirements.txt (line 7)) (2.31.0)\n",
      "Requirement already satisfied: typing-extensions in d:\\juand\\documents\\proyects\\tesis\\s_i_nor_enti_biome_busquedas_semanticas_multilenguaje_bdd_umls\\myvenv\\lib\\site-packages (from torch>=1.2.0->-r requirements.txt (line 2)) (4.6.3)\n",
      "Collecting networkx\n",
      "  Downloading networkx-3.1-py3-none-any.whl (2.1 MB)\n",
      "Collecting sympy\n",
      "  Downloading sympy-1.12-py3-none-any.whl (5.7 MB)\n",
      "Requirement already satisfied: jinja2 in d:\\juand\\documents\\proyects\\tesis\\s_i_nor_enti_biome_busquedas_semanticas_multilenguaje_bdd_umls\\myvenv\\lib\\site-packages (from torch>=1.2.0->-r requirements.txt (line 2)) (3.1.2)\n",
      "Requirement already satisfied: colorama; platform_system == \"Windows\" in d:\\juand\\documents\\proyects\\tesis\\s_i_nor_enti_biome_busquedas_semanticas_multilenguaje_bdd_umls\\myvenv\\lib\\site-packages (from tqdm->-r requirements.txt (line 3)) (0.4.6)\n",
      "Collecting botocore<1.30.0,>=1.29.145\n",
      "  Downloading botocore-1.29.145-py3-none-any.whl (10.8 MB)\n",
      "Collecting jmespath<2.0.0,>=0.7.1\n",
      "  Using cached jmespath-1.0.1-py3-none-any.whl (20 kB)\n",
      "Collecting s3transfer<0.7.0,>=0.6.0\n",
      "  Using cached s3transfer-0.6.1-py3-none-any.whl (79 kB)\n",
      "Requirement already satisfied: charset-normalizer<4,>=2 in d:\\juand\\documents\\proyects\\tesis\\s_i_nor_enti_biome_busquedas_semanticas_multilenguaje_bdd_umls\\myvenv\\lib\\site-packages (from requests->-r requirements.txt (line 7)) (3.1.0)\n",
      "Requirement already satisfied: urllib3<3,>=1.21.1 in d:\\juand\\documents\\proyects\\tesis\\s_i_nor_enti_biome_busquedas_semanticas_multilenguaje_bdd_umls\\myvenv\\lib\\site-packages (from requests->-r requirements.txt (line 7)) (2.0.2)\n",
      "Requirement already satisfied: certifi>=2017.4.17 in d:\\juand\\documents\\proyects\\tesis\\s_i_nor_enti_biome_busquedas_semanticas_multilenguaje_bdd_umls\\myvenv\\lib\\site-packages (from requests->-r requirements.txt (line 7)) (2023.5.7)\n",
      "Requirement already satisfied: idna<4,>=2.5 in d:\\juand\\documents\\proyects\\tesis\\s_i_nor_enti_biome_busquedas_semanticas_multilenguaje_bdd_umls\\myvenv\\lib\\site-packages (from requests->-r requirements.txt (line 7)) (3.4)\n",
      "Collecting mpmath>=0.19\n",
      "  Downloading mpmath-1.3.0-py3-none-any.whl (536 kB)\n",
      "Requirement already satisfied: MarkupSafe>=2.0 in d:\\juand\\documents\\proyects\\tesis\\s_i_nor_enti_biome_busquedas_semanticas_multilenguaje_bdd_umls\\myvenv\\lib\\site-packages (from jinja2->torch>=1.2.0->-r requirements.txt (line 2)) (2.1.2)\n",
      "Requirement already satisfied: python-dateutil<3.0.0,>=2.1 in d:\\juand\\documents\\proyects\\tesis\\s_i_nor_enti_biome_busquedas_semanticas_multilenguaje_bdd_umls\\myvenv\\lib\\site-packages (from botocore<1.30.0,>=1.29.145->boto3->-r requirements.txt (line 5)) (2.8.2)\n",
      "Requirement already satisfied: six>=1.5 in d:\\juand\\documents\\proyects\\tesis\\s_i_nor_enti_biome_busquedas_semanticas_multilenguaje_bdd_umls\\myvenv\\lib\\site-packages (from python-dateutil<3.0.0,>=2.1->botocore<1.30.0,>=1.29.145->boto3->-r requirements.txt (line 5)) (1.16.0)\n",
      "Installing collected packages: tokenizers, filelock, networkx, mpmath, sympy, torch, jmespath, botocore, s3transfer, boto3\n",
      "Successfully installed boto3-1.26.145 botocore-1.29.145 filelock-3.12.0 jmespath-1.0.1 mpmath-1.3.0 networkx-3.1 s3transfer-0.6.1 sympy-1.12 tokenizers-0.13.3 torch-2.0.1\n",
      "Note: you may need to restart the kernel to use updated packages.\n"
     ]
    },
    {
     "name": "stderr",
     "output_type": "stream",
     "text": [
      "ERROR: After October 2020 you may experience errors when installing or updating packages. This is because pip will change the way that it resolves dependency conflicts.\n",
      "\n",
      "We recommend you use --use-feature=2020-resolver to test your packages with the new resolver before it becomes the default.\n",
      "\n",
      "botocore 1.29.145 requires urllib3<1.27,>=1.25.4, but you'll have urllib3 2.0.2 which is incompatible.\n",
      "WARNING: You are using pip version 20.2.3; however, version 23.1.2 is available.\n",
      "You should consider upgrading via the 'd:\\juand\\Documents\\Proyects\\Tesis\\S_I_NOR_ENTI_BIOME_BUSQUEDAS_SEMANTICAS_MULTILENGUAJE_BDD_UMLS\\myvenv\\Scripts\\python.exe -m pip install --upgrade pip' command.\n"
     ]
    }
   ],
   "source": [
    "%pip install -r requirements.txt"
   ]
  },
  {
   "cell_type": "code",
   "execution_count": 4,
   "id": "86fe61d5-2c91-42ab-98f4-879d19b4293f",
   "metadata": {
    "execution": {
     "iopub.execute_input": "2023-03-09T16:17:47.449976Z",
     "iopub.status.busy": "2023-03-09T16:17:47.449601Z",
     "iopub.status.idle": "2023-03-09T16:17:49.373942Z",
     "shell.execute_reply": "2023-03-09T16:17:49.372936Z",
     "shell.execute_reply.started": "2023-03-09T16:17:47.449944Z"
    }
   },
   "outputs": [
    {
     "name": "stderr",
     "output_type": "stream",
     "text": [
      "zip_safe flag not set; analyzing archive contents...\n",
      "error: urllib3 2.0.2 is installed but urllib3<1.27,>=1.25.4 is required by {'botocore'}\n"
     ]
    },
    {
     "name": "stdout",
     "output_type": "stream",
     "text": [
      "running install\n",
      "running bdist_egg\n",
      "running egg_info\n",
      "creating awesome_align.egg-info\n",
      "writing awesome_align.egg-info\\PKG-INFO\n",
      "writing dependency_links to awesome_align.egg-info\\dependency_links.txt\n",
      "writing entry points to awesome_align.egg-info\\entry_points.txt\n",
      "writing requirements to awesome_align.egg-info\\requires.txt\n",
      "writing top-level names to awesome_align.egg-info\\top_level.txt\n",
      "writing manifest file 'awesome_align.egg-info\\SOURCES.txt'\n",
      "reading manifest file 'awesome_align.egg-info\\SOURCES.txt'\n",
      "writing manifest file 'awesome_align.egg-info\\SOURCES.txt'\n",
      "installing library code to build\\bdist.win-amd64\\egg\n",
      "running install_lib\n",
      "running build_py\n",
      "creating build\n",
      "creating build\\lib\n",
      "creating build\\lib\\awesome_align\n",
      "copying awesome_align\\activations.py -> build\\lib\\awesome_align\n",
      "copying awesome_align\\configuration_bert.py -> build\\lib\\awesome_align\n",
      "copying awesome_align\\configuration_utils.py -> build\\lib\\awesome_align\n",
      "copying awesome_align\\file_utils.py -> build\\lib\\awesome_align\n",
      "copying awesome_align\\modeling.py -> build\\lib\\awesome_align\n",
      "copying awesome_align\\modeling_utils.py -> build\\lib\\awesome_align\n",
      "copying awesome_align\\run_align.py -> build\\lib\\awesome_align\n",
      "copying awesome_align\\run_train.py -> build\\lib\\awesome_align\n",
      "copying awesome_align\\sparsemax.py -> build\\lib\\awesome_align\n",
      "copying awesome_align\\tokenization_bert.py -> build\\lib\\awesome_align\n",
      "copying awesome_align\\tokenization_utils.py -> build\\lib\\awesome_align\n",
      "copying awesome_align\\train_utils.py -> build\\lib\\awesome_align\n",
      "copying awesome_align\\__init__.py -> build\\lib\\awesome_align\n",
      "creating build\\bdist.win-amd64\n",
      "creating build\\bdist.win-amd64\\egg\n",
      "creating build\\bdist.win-amd64\\egg\\awesome_align\n",
      "copying build\\lib\\awesome_align\\activations.py -> build\\bdist.win-amd64\\egg\\awesome_align\n",
      "copying build\\lib\\awesome_align\\configuration_bert.py -> build\\bdist.win-amd64\\egg\\awesome_align\n",
      "copying build\\lib\\awesome_align\\configuration_utils.py -> build\\bdist.win-amd64\\egg\\awesome_align\n",
      "copying build\\lib\\awesome_align\\file_utils.py -> build\\bdist.win-amd64\\egg\\awesome_align\n",
      "copying build\\lib\\awesome_align\\modeling.py -> build\\bdist.win-amd64\\egg\\awesome_align\n",
      "copying build\\lib\\awesome_align\\modeling_utils.py -> build\\bdist.win-amd64\\egg\\awesome_align\n",
      "copying build\\lib\\awesome_align\\run_align.py -> build\\bdist.win-amd64\\egg\\awesome_align\n",
      "copying build\\lib\\awesome_align\\run_train.py -> build\\bdist.win-amd64\\egg\\awesome_align\n",
      "copying build\\lib\\awesome_align\\sparsemax.py -> build\\bdist.win-amd64\\egg\\awesome_align\n",
      "copying build\\lib\\awesome_align\\tokenization_bert.py -> build\\bdist.win-amd64\\egg\\awesome_align\n",
      "copying build\\lib\\awesome_align\\tokenization_utils.py -> build\\bdist.win-amd64\\egg\\awesome_align\n",
      "copying build\\lib\\awesome_align\\train_utils.py -> build\\bdist.win-amd64\\egg\\awesome_align\n",
      "copying build\\lib\\awesome_align\\__init__.py -> build\\bdist.win-amd64\\egg\\awesome_align\n",
      "byte-compiling build\\bdist.win-amd64\\egg\\awesome_align\\activations.py to activations.cpython-38.pyc\n",
      "byte-compiling build\\bdist.win-amd64\\egg\\awesome_align\\configuration_bert.py to configuration_bert.cpython-38.pyc\n",
      "byte-compiling build\\bdist.win-amd64\\egg\\awesome_align\\configuration_utils.py to configuration_utils.cpython-38.pyc\n",
      "byte-compiling build\\bdist.win-amd64\\egg\\awesome_align\\file_utils.py to file_utils.cpython-38.pyc\n",
      "byte-compiling build\\bdist.win-amd64\\egg\\awesome_align\\modeling.py to modeling.cpython-38.pyc\n",
      "byte-compiling build\\bdist.win-amd64\\egg\\awesome_align\\modeling_utils.py to modeling_utils.cpython-38.pyc\n",
      "byte-compiling build\\bdist.win-amd64\\egg\\awesome_align\\run_align.py to run_align.cpython-38.pyc\n",
      "byte-compiling build\\bdist.win-amd64\\egg\\awesome_align\\run_train.py to run_train.cpython-38.pyc\n",
      "byte-compiling build\\bdist.win-amd64\\egg\\awesome_align\\sparsemax.py to sparsemax.cpython-38.pyc\n",
      "byte-compiling build\\bdist.win-amd64\\egg\\awesome_align\\tokenization_bert.py to tokenization_bert.cpython-38.pyc\n",
      "byte-compiling build\\bdist.win-amd64\\egg\\awesome_align\\tokenization_utils.py to tokenization_utils.cpython-38.pyc\n",
      "byte-compiling build\\bdist.win-amd64\\egg\\awesome_align\\train_utils.py to train_utils.cpython-38.pyc\n",
      "byte-compiling build\\bdist.win-amd64\\egg\\awesome_align\\__init__.py to __init__.cpython-38.pyc\n",
      "creating build\\bdist.win-amd64\\egg\\EGG-INFO\n",
      "copying awesome_align.egg-info\\PKG-INFO -> build\\bdist.win-amd64\\egg\\EGG-INFO\n",
      "copying awesome_align.egg-info\\SOURCES.txt -> build\\bdist.win-amd64\\egg\\EGG-INFO\n",
      "copying awesome_align.egg-info\\dependency_links.txt -> build\\bdist.win-amd64\\egg\\EGG-INFO\n",
      "copying awesome_align.egg-info\\entry_points.txt -> build\\bdist.win-amd64\\egg\\EGG-INFO\n",
      "copying awesome_align.egg-info\\requires.txt -> build\\bdist.win-amd64\\egg\\EGG-INFO\n",
      "copying awesome_align.egg-info\\top_level.txt -> build\\bdist.win-amd64\\egg\\EGG-INFO\n",
      "creating dist\n",
      "creating 'dist\\awesome_align-0.1.7-py3.8.egg' and adding 'build\\bdist.win-amd64\\egg' to it\n",
      "removing 'build\\bdist.win-amd64\\egg' (and everything under it)\n",
      "Processing awesome_align-0.1.7-py3.8.egg\n",
      "Copying awesome_align-0.1.7-py3.8.egg to d:\\juand\\documents\\proyects\\tesis\\s_i_nor_enti_biome_busquedas_semanticas_multilenguaje_bdd_umls\\myvenv\\lib\\site-packages\n",
      "Adding awesome-align 0.1.7 to easy-install.pth file\n",
      "Installing awesome-align-script.py script to d:\\juand\\Documents\\Proyects\\Tesis\\S_I_NOR_ENTI_BIOME_BUSQUEDAS_SEMANTICAS_MULTILENGUAJE_BDD_UMLS\\myvenv\\Scripts\n",
      "Installing awesome-align.exe script to d:\\juand\\Documents\\Proyects\\Tesis\\S_I_NOR_ENTI_BIOME_BUSQUEDAS_SEMANTICAS_MULTILENGUAJE_BDD_UMLS\\myvenv\\Scripts\n",
      "Installing awesome-train-script.py script to d:\\juand\\Documents\\Proyects\\Tesis\\S_I_NOR_ENTI_BIOME_BUSQUEDAS_SEMANTICAS_MULTILENGUAJE_BDD_UMLS\\myvenv\\Scripts\n",
      "Installing awesome-train.exe script to d:\\juand\\Documents\\Proyects\\Tesis\\S_I_NOR_ENTI_BIOME_BUSQUEDAS_SEMANTICAS_MULTILENGUAJE_BDD_UMLS\\myvenv\\Scripts\n",
      "\n",
      "Installed d:\\juand\\documents\\proyects\\tesis\\s_i_nor_enti_biome_busquedas_semanticas_multilenguaje_bdd_umls\\myvenv\\lib\\site-packages\\awesome_align-0.1.7-py3.8.egg\n",
      "Processing dependencies for awesome-align==0.1.7\n"
     ]
    }
   ],
   "source": [
    "#import getpass\n",
    "#import os\n",
    "#password = getpass.getpass()\n",
    "#command = \"sudo -S python setup.py install\" #can be any command but don't forget -S as it enables input from stdin\n",
    "#os.system('echo %s | %s' % (password, command))\n",
    "!python setup.py install\n",
    "#--single-version-externally-managed --root=/ --user"
   ]
  },
  {
   "cell_type": "code",
   "execution_count": 5,
   "id": "07b0a870-1485-4807-8e60-84e903728465",
   "metadata": {
    "execution": {
     "iopub.execute_input": "2023-02-12T00:55:44.999794Z",
     "iopub.status.busy": "2023-02-12T00:55:44.999242Z",
     "iopub.status.idle": "2023-02-12T00:56:05.914777Z",
     "shell.execute_reply": "2023-02-12T00:56:05.913870Z",
     "shell.execute_reply.started": "2023-02-12T00:55:44.999745Z"
    }
   },
   "outputs": [
    {
     "name": "stderr",
     "output_type": "stream",
     "text": [
      "\"TRAIN_FILE\" no se reconoce como un comando interno o externo,\n",
      "programa o archivo por lotes ejecutable.\n",
      "\"EVAL_FILE\" no se reconoce como un comando interno o externo,\n",
      "programa o archivo por lotes ejecutable.\n",
      "\"OUTPUT_DIR\" no se reconoce como un comando interno o externo,\n",
      "programa o archivo por lotes ejecutable.\n",
      "\"CUDA_VISIBLE_DEVICES\" no se reconoce como un comando interno o externo,\n",
      "programa o archivo por lotes ejecutable.\n"
     ]
    }
   ],
   "source": [
    "!TRAIN_FILE=/examples/enfr.src-tgt\n",
    "!EVAL_FILE=/examples/enfr.gold\n",
    "!OUTPUT_DIR=/out\n",
    "\n",
    "!CUDA_VISIBLE_DEVICES=0 awesome-train \\\n",
    "    --output_dir=out \\\n",
    "    --model_name_or_path=bert-base-multilingual-cased \\\n",
    "    --extraction 'softmax' \\\n",
    "    --do_train \\\n",
    "    --train_tlm \\\n",
    "    --train_so \\\n",
    "    --train_data_file=examples/enfr.gold \\\n",
    "    --per_gpu_train_batch_size 2 \\\n",
    "    --gradient_accumulation_steps 4 \\\n",
    "    --num_train_epochs 1 \\\n",
    "    --learning_rate 2e-5 \\\n",
    "    --save_steps 4000 \\\n",
    "    --max_steps 20000 \\\n",
    "    --do_eval \\\n",
    "    --eval_data_file=examples/enfr.gold \\\n",
    "    --overwrite_output_dir"
   ]
  },
  {
   "cell_type": "code",
   "execution_count": null,
   "id": "af2564cc-1af4-4b32-bc4d-d67197402781",
   "metadata": {
    "execution": {
     "iopub.execute_input": "2023-01-28T15:38:10.632084Z",
     "iopub.status.busy": "2023-01-28T15:38:10.631757Z",
     "iopub.status.idle": "2023-01-28T15:41:19.636427Z",
     "shell.execute_reply": "2023-01-28T15:41:19.635208Z",
     "shell.execute_reply.started": "2023-01-28T15:38:10.632051Z"
    }
   },
   "outputs": [],
   "source": [
    "!CUDA_VISIBLE_DEVICES=0 awesome-train \\\n",
    "    --output_dir=out \\\n",
    "    --model_name_or_path=bert-base-multilingual-cased \\\n",
    "    --extraction 'softmax' \\\n",
    "    --do_train \\\n",
    "    --train_mlm \\\n",
    "    --train_tlm \\\n",
    "    --train_tlm_full \\\n",
    "    --train_so \\\n",
    "    --train_psi \\\n",
    "    --train_data_file=examples/enfr.src-tgt \\\n",
    "    --per_gpu_train_batch_size 2 \\\n",
    "    --gradient_accumulation_steps 4 \\\n",
    "    --num_train_epochs 1 \\\n",
    "    --learning_rate 2e-5 \\\n",
    "    --save_steps 10000 \\\n",
    "    --max_steps 40000 \\\n",
    "    --do_eval \\\n",
    "    --eval_data_file=examples/enfr.src-tgt \\\n",
    "    --overwrite_output_dir"
   ]
  },
  {
   "cell_type": "code",
   "execution_count": null,
   "id": "b5e6a364-2d93-43f4-b858-ccaafde79490",
   "metadata": {
    "execution": {
     "iopub.execute_input": "2023-03-09T16:20:08.806788Z",
     "iopub.status.busy": "2023-03-09T16:20:08.806422Z",
     "iopub.status.idle": "2023-03-09T16:20:24.478952Z",
     "shell.execute_reply": "2023-03-09T16:20:24.478163Z",
     "shell.execute_reply.started": "2023-03-09T16:20:08.806760Z"
    }
   },
   "outputs": [],
   "source": [
    "!CUDA_VISIBLE_DEVICES=0 awesome-align \\\n",
    "    --output_file=out/output.txt \\\n",
    "    --model_name_or_path=checkpoint-5080 \\\n",
    "    --data_file=integrate.txt \\\n",
    "    --extraction 'softmax' \\\n",
    "    --batch_size 32\n"
   ]
  }
 ],
 "metadata": {
  "kernelspec": {
   "display_name": "Python 3",
   "language": "python",
   "name": "python3"
  },
  "language_info": {
   "codemirror_mode": {
    "name": "ipython",
    "version": 3
   },
   "file_extension": ".py",
   "mimetype": "text/x-python",
   "name": "python",
   "nbconvert_exporter": "python",
   "pygments_lexer": "ipython3",
   "version": "3.8.8"
  }
 },
 "nbformat": 4,
 "nbformat_minor": 5
}
